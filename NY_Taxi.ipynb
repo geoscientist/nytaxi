{
 "cells": [
  {
   "cell_type": "code",
   "execution_count": 1,
   "metadata": {
    "collapsed": true
   },
   "outputs": [],
   "source": [
    "import pandas as pd\n",
    "import seaborn as sns\n",
    "from sklearn import model_selection, linear_model, metrics\n",
    "from osgeo import ogr, osr\n",
    "import math\n",
    "%matplotlib inline"
   ]
  },
  {
   "cell_type": "code",
   "execution_count": 105,
   "metadata": {
    "collapsed": true
   },
   "outputs": [],
   "source": [
    "train_data = pd.read_csv('../../data/ny-taxi/train.csv')"
   ]
  },
  {
   "cell_type": "markdown",
   "metadata": {},
   "source": [
    "# Exploratory Data Analysis"
   ]
  },
  {
   "cell_type": "code",
   "execution_count": 106,
   "metadata": {},
   "outputs": [
    {
     "data": {
      "text/html": [
       "<div>\n",
       "<style>\n",
       "    .dataframe thead tr:only-child th {\n",
       "        text-align: right;\n",
       "    }\n",
       "\n",
       "    .dataframe thead th {\n",
       "        text-align: left;\n",
       "    }\n",
       "\n",
       "    .dataframe tbody tr th {\n",
       "        vertical-align: top;\n",
       "    }\n",
       "</style>\n",
       "<table border=\"1\" class=\"dataframe\">\n",
       "  <thead>\n",
       "    <tr style=\"text-align: right;\">\n",
       "      <th></th>\n",
       "      <th>id</th>\n",
       "      <th>vendor_id</th>\n",
       "      <th>pickup_datetime</th>\n",
       "      <th>dropoff_datetime</th>\n",
       "      <th>passenger_count</th>\n",
       "      <th>pickup_longitude</th>\n",
       "      <th>pickup_latitude</th>\n",
       "      <th>dropoff_longitude</th>\n",
       "      <th>dropoff_latitude</th>\n",
       "      <th>store_and_fwd_flag</th>\n",
       "      <th>trip_duration</th>\n",
       "    </tr>\n",
       "  </thead>\n",
       "  <tbody>\n",
       "    <tr>\n",
       "      <th>0</th>\n",
       "      <td>id2875421</td>\n",
       "      <td>2</td>\n",
       "      <td>2016-03-14 17:24:55</td>\n",
       "      <td>2016-03-14 17:32:30</td>\n",
       "      <td>1</td>\n",
       "      <td>-73.982155</td>\n",
       "      <td>40.767937</td>\n",
       "      <td>-73.964630</td>\n",
       "      <td>40.765602</td>\n",
       "      <td>N</td>\n",
       "      <td>455</td>\n",
       "    </tr>\n",
       "    <tr>\n",
       "      <th>1</th>\n",
       "      <td>id2377394</td>\n",
       "      <td>1</td>\n",
       "      <td>2016-06-12 00:43:35</td>\n",
       "      <td>2016-06-12 00:54:38</td>\n",
       "      <td>1</td>\n",
       "      <td>-73.980415</td>\n",
       "      <td>40.738564</td>\n",
       "      <td>-73.999481</td>\n",
       "      <td>40.731152</td>\n",
       "      <td>N</td>\n",
       "      <td>663</td>\n",
       "    </tr>\n",
       "    <tr>\n",
       "      <th>2</th>\n",
       "      <td>id3858529</td>\n",
       "      <td>2</td>\n",
       "      <td>2016-01-19 11:35:24</td>\n",
       "      <td>2016-01-19 12:10:48</td>\n",
       "      <td>1</td>\n",
       "      <td>-73.979027</td>\n",
       "      <td>40.763939</td>\n",
       "      <td>-74.005333</td>\n",
       "      <td>40.710087</td>\n",
       "      <td>N</td>\n",
       "      <td>2124</td>\n",
       "    </tr>\n",
       "    <tr>\n",
       "      <th>3</th>\n",
       "      <td>id3504673</td>\n",
       "      <td>2</td>\n",
       "      <td>2016-04-06 19:32:31</td>\n",
       "      <td>2016-04-06 19:39:40</td>\n",
       "      <td>1</td>\n",
       "      <td>-74.010040</td>\n",
       "      <td>40.719971</td>\n",
       "      <td>-74.012268</td>\n",
       "      <td>40.706718</td>\n",
       "      <td>N</td>\n",
       "      <td>429</td>\n",
       "    </tr>\n",
       "    <tr>\n",
       "      <th>4</th>\n",
       "      <td>id2181028</td>\n",
       "      <td>2</td>\n",
       "      <td>2016-03-26 13:30:55</td>\n",
       "      <td>2016-03-26 13:38:10</td>\n",
       "      <td>1</td>\n",
       "      <td>-73.973053</td>\n",
       "      <td>40.793209</td>\n",
       "      <td>-73.972923</td>\n",
       "      <td>40.782520</td>\n",
       "      <td>N</td>\n",
       "      <td>435</td>\n",
       "    </tr>\n",
       "  </tbody>\n",
       "</table>\n",
       "</div>"
      ],
      "text/plain": [
       "          id  vendor_id      pickup_datetime     dropoff_datetime  \\\n",
       "0  id2875421          2  2016-03-14 17:24:55  2016-03-14 17:32:30   \n",
       "1  id2377394          1  2016-06-12 00:43:35  2016-06-12 00:54:38   \n",
       "2  id3858529          2  2016-01-19 11:35:24  2016-01-19 12:10:48   \n",
       "3  id3504673          2  2016-04-06 19:32:31  2016-04-06 19:39:40   \n",
       "4  id2181028          2  2016-03-26 13:30:55  2016-03-26 13:38:10   \n",
       "\n",
       "   passenger_count  pickup_longitude  pickup_latitude  dropoff_longitude  \\\n",
       "0                1        -73.982155        40.767937         -73.964630   \n",
       "1                1        -73.980415        40.738564         -73.999481   \n",
       "2                1        -73.979027        40.763939         -74.005333   \n",
       "3                1        -74.010040        40.719971         -74.012268   \n",
       "4                1        -73.973053        40.793209         -73.972923   \n",
       "\n",
       "   dropoff_latitude store_and_fwd_flag  trip_duration  \n",
       "0         40.765602                  N            455  \n",
       "1         40.731152                  N            663  \n",
       "2         40.710087                  N           2124  \n",
       "3         40.706718                  N            429  \n",
       "4         40.782520                  N            435  "
      ]
     },
     "execution_count": 106,
     "metadata": {},
     "output_type": "execute_result"
    }
   ],
   "source": [
    "train_data.head()"
   ]
  },
  {
   "cell_type": "code",
   "execution_count": 107,
   "metadata": {},
   "outputs": [
    {
     "data": {
      "text/plain": [
       "1458644"
      ]
     },
     "execution_count": 107,
     "metadata": {},
     "output_type": "execute_result"
    }
   ],
   "source": [
    "len(train_data)"
   ]
  },
  {
   "cell_type": "code",
   "execution_count": 108,
   "metadata": {},
   "outputs": [
    {
     "name": "stdout",
     "output_type": "stream",
     "text": [
      "<class 'pandas.core.frame.DataFrame'>\n",
      "RangeIndex: 1458644 entries, 0 to 1458643\n",
      "Data columns (total 11 columns):\n",
      "id                    1458644 non-null object\n",
      "vendor_id             1458644 non-null int64\n",
      "pickup_datetime       1458644 non-null object\n",
      "dropoff_datetime      1458644 non-null object\n",
      "passenger_count       1458644 non-null int64\n",
      "pickup_longitude      1458644 non-null float64\n",
      "pickup_latitude       1458644 non-null float64\n",
      "dropoff_longitude     1458644 non-null float64\n",
      "dropoff_latitude      1458644 non-null float64\n",
      "store_and_fwd_flag    1458644 non-null object\n",
      "trip_duration         1458644 non-null int64\n",
      "dtypes: float64(4), int64(3), object(4)\n",
      "memory usage: 122.4+ MB\n"
     ]
    }
   ],
   "source": [
    "train_data.info()"
   ]
  },
  {
   "cell_type": "code",
   "execution_count": 109,
   "metadata": {},
   "outputs": [
    {
     "data": {
      "text/plain": [
       "array([2, 1])"
      ]
     },
     "execution_count": 109,
     "metadata": {},
     "output_type": "execute_result"
    }
   ],
   "source": [
    "train_data['vendor_id'].unique()"
   ]
  },
  {
   "cell_type": "code",
   "execution_count": 110,
   "metadata": {},
   "outputs": [
    {
     "data": {
      "text/plain": [
       "array([1, 6, 4, 2, 3, 5, 0, 7, 9, 8])"
      ]
     },
     "execution_count": 110,
     "metadata": {},
     "output_type": "execute_result"
    }
   ],
   "source": [
    "train_data['passenger_count'].unique()"
   ]
  },
  {
   "cell_type": "code",
   "execution_count": 111,
   "metadata": {
    "collapsed": true
   },
   "outputs": [],
   "source": [
    "# drop id column\n",
    "train_data = train_data.drop('id', 1)"
   ]
  },
  {
   "cell_type": "code",
   "execution_count": 71,
   "metadata": {
    "collapsed": true
   },
   "outputs": [],
   "source": [
    "# remove trips with 0 passengers\n",
    "train_data = train_data.loc[train_data['passenger_count'] != 0]"
   ]
  },
  {
   "cell_type": "code",
   "execution_count": 112,
   "metadata": {
    "collapsed": true
   },
   "outputs": [],
   "source": [
    "# define function for calculation distance between pickup and dropoff points\n",
    "def distance(pickup_x, pickup_y, dropoff_x, dropoff_y):\n",
    "    source = osr.SpatialReference()\n",
    "    source.ImportFromEPSG(4326)\n",
    "    target = osr.SpatialReference()\n",
    "    target.ImportFromEPSG(26918)\n",
    "    transofrm = osr.CoordinateTransformation(source, target)\n",
    "    line = ogr.Geometry(ogr.wkbLineString)\n",
    "    line.AddPoint(pickup_x, pickup_y)\n",
    "    line.AddPoint(dropoff_x, dropoff_y)\n",
    "    line.Transform(transofrm)\n",
    "    return line.Length()"
   ]
  },
  {
   "cell_type": "code",
   "execution_count": 146,
   "metadata": {},
   "outputs": [],
   "source": [
    "# we must create new feature - distance between pickup and dropoff points\n",
    "for i in range(1300000,len(train_data)):\n",
    "    train_data.loc[i, 'distance'] = distance(train_data.loc[i, ['pickup_longitude']][0], train_data.loc[i, ['pickup_latitude']][0], train_data.loc[i, ['dropoff_longitude']][0], train_data.loc[i, ['dropoff_latitude']][0])"
   ]
  },
  {
   "cell_type": "code",
   "execution_count": 151,
   "metadata": {},
   "outputs": [
    {
     "data": {
      "text/html": [
       "<div>\n",
       "<style>\n",
       "    .dataframe thead tr:only-child th {\n",
       "        text-align: right;\n",
       "    }\n",
       "\n",
       "    .dataframe thead th {\n",
       "        text-align: left;\n",
       "    }\n",
       "\n",
       "    .dataframe tbody tr th {\n",
       "        vertical-align: top;\n",
       "    }\n",
       "</style>\n",
       "<table border=\"1\" class=\"dataframe\">\n",
       "  <thead>\n",
       "    <tr style=\"text-align: right;\">\n",
       "      <th></th>\n",
       "      <th>vendor_id</th>\n",
       "      <th>pickup_datetime</th>\n",
       "      <th>dropoff_datetime</th>\n",
       "      <th>passenger_count</th>\n",
       "      <th>pickup_longitude</th>\n",
       "      <th>pickup_latitude</th>\n",
       "      <th>dropoff_longitude</th>\n",
       "      <th>dropoff_latitude</th>\n",
       "      <th>store_and_fwd_flag</th>\n",
       "      <th>trip_duration</th>\n",
       "      <th>distance</th>\n",
       "      <th>av_speed</th>\n",
       "    </tr>\n",
       "  </thead>\n",
       "  <tbody>\n",
       "    <tr>\n",
       "      <th>1312740</th>\n",
       "      <td>1</td>\n",
       "      <td>2016-06-22 09:45:10</td>\n",
       "      <td>2016-06-22 10:04:54</td>\n",
       "      <td>1</td>\n",
       "      <td>-73.873009</td>\n",
       "      <td>40.774136</td>\n",
       "      <td>-73.956490</td>\n",
       "      <td>40.746117</td>\n",
       "      <td>N</td>\n",
       "      <td>1184</td>\n",
       "      <td>7702.960299</td>\n",
       "      <td>23.421163</td>\n",
       "    </tr>\n",
       "    <tr>\n",
       "      <th>1312741</th>\n",
       "      <td>2</td>\n",
       "      <td>2016-02-16 20:24:23</td>\n",
       "      <td>2016-02-16 20:32:19</td>\n",
       "      <td>1</td>\n",
       "      <td>-73.999451</td>\n",
       "      <td>40.757999</td>\n",
       "      <td>-73.974228</td>\n",
       "      <td>40.750870</td>\n",
       "      <td>N</td>\n",
       "      <td>476</td>\n",
       "      <td>2271.667000</td>\n",
       "      <td>17.180675</td>\n",
       "    </tr>\n",
       "    <tr>\n",
       "      <th>1312742</th>\n",
       "      <td>1</td>\n",
       "      <td>2016-02-08 11:56:48</td>\n",
       "      <td>2016-02-08 12:05:20</td>\n",
       "      <td>1</td>\n",
       "      <td>-73.979370</td>\n",
       "      <td>40.766876</td>\n",
       "      <td>-73.971092</td>\n",
       "      <td>40.762928</td>\n",
       "      <td>N</td>\n",
       "      <td>512</td>\n",
       "      <td>824.815396</td>\n",
       "      <td>5.799483</td>\n",
       "    </tr>\n",
       "    <tr>\n",
       "      <th>1312743</th>\n",
       "      <td>1</td>\n",
       "      <td>2016-05-30 03:27:47</td>\n",
       "      <td>2016-05-30 03:39:40</td>\n",
       "      <td>2</td>\n",
       "      <td>-73.984406</td>\n",
       "      <td>40.728855</td>\n",
       "      <td>-73.939125</td>\n",
       "      <td>40.791779</td>\n",
       "      <td>N</td>\n",
       "      <td>713</td>\n",
       "      <td>7962.823749</td>\n",
       "      <td>40.205001</td>\n",
       "    </tr>\n",
       "    <tr>\n",
       "      <th>1312744</th>\n",
       "      <td>2</td>\n",
       "      <td>2016-02-15 18:45:56</td>\n",
       "      <td>2016-02-15 19:23:04</td>\n",
       "      <td>6</td>\n",
       "      <td>-74.007507</td>\n",
       "      <td>40.740978</td>\n",
       "      <td>-73.952080</td>\n",
       "      <td>40.660046</td>\n",
       "      <td>N</td>\n",
       "      <td>2228</td>\n",
       "      <td>10131.847511</td>\n",
       "      <td>16.371028</td>\n",
       "    </tr>\n",
       "    <tr>\n",
       "      <th>1312745</th>\n",
       "      <td>2</td>\n",
       "      <td>2016-04-20 20:40:04</td>\n",
       "      <td>2016-04-20 21:03:22</td>\n",
       "      <td>1</td>\n",
       "      <td>-73.940582</td>\n",
       "      <td>40.814381</td>\n",
       "      <td>-73.948608</td>\n",
       "      <td>40.805721</td>\n",
       "      <td>N</td>\n",
       "      <td>1398</td>\n",
       "      <td>1175.799185</td>\n",
       "      <td>3.027809</td>\n",
       "    </tr>\n",
       "    <tr>\n",
       "      <th>1312746</th>\n",
       "      <td>1</td>\n",
       "      <td>2016-06-06 01:35:19</td>\n",
       "      <td>2016-06-06 01:42:26</td>\n",
       "      <td>2</td>\n",
       "      <td>-73.997360</td>\n",
       "      <td>40.714272</td>\n",
       "      <td>-73.994652</td>\n",
       "      <td>40.719688</td>\n",
       "      <td>N</td>\n",
       "      <td>427</td>\n",
       "      <td>643.394984</td>\n",
       "      <td>5.424407</td>\n",
       "    </tr>\n",
       "    <tr>\n",
       "      <th>1312747</th>\n",
       "      <td>1</td>\n",
       "      <td>2016-04-20 19:49:48</td>\n",
       "      <td>2016-04-20 19:56:20</td>\n",
       "      <td>1</td>\n",
       "      <td>-73.970711</td>\n",
       "      <td>40.757172</td>\n",
       "      <td>-73.961296</td>\n",
       "      <td>40.756279</td>\n",
       "      <td>N</td>\n",
       "      <td>392</td>\n",
       "      <td>800.921193</td>\n",
       "      <td>7.355399</td>\n",
       "    </tr>\n",
       "    <tr>\n",
       "      <th>1312748</th>\n",
       "      <td>2</td>\n",
       "      <td>2016-04-06 09:58:35</td>\n",
       "      <td>2016-04-06 10:05:16</td>\n",
       "      <td>1</td>\n",
       "      <td>-73.969803</td>\n",
       "      <td>40.768814</td>\n",
       "      <td>-73.983727</td>\n",
       "      <td>40.770573</td>\n",
       "      <td>N</td>\n",
       "      <td>401</td>\n",
       "      <td>1191.280344</td>\n",
       "      <td>10.694786</td>\n",
       "    </tr>\n",
       "    <tr>\n",
       "      <th>1312749</th>\n",
       "      <td>2</td>\n",
       "      <td>2016-03-19 20:57:09</td>\n",
       "      <td>2016-03-19 21:02:31</td>\n",
       "      <td>1</td>\n",
       "      <td>-73.992104</td>\n",
       "      <td>40.759300</td>\n",
       "      <td>-74.006104</td>\n",
       "      <td>40.748619</td>\n",
       "      <td>N</td>\n",
       "      <td>322</td>\n",
       "      <td>1674.183850</td>\n",
       "      <td>18.717583</td>\n",
       "    </tr>\n",
       "  </tbody>\n",
       "</table>\n",
       "</div>"
      ],
      "text/plain": [
       "         vendor_id      pickup_datetime     dropoff_datetime  passenger_count  \\\n",
       "1312740          1  2016-06-22 09:45:10  2016-06-22 10:04:54                1   \n",
       "1312741          2  2016-02-16 20:24:23  2016-02-16 20:32:19                1   \n",
       "1312742          1  2016-02-08 11:56:48  2016-02-08 12:05:20                1   \n",
       "1312743          1  2016-05-30 03:27:47  2016-05-30 03:39:40                2   \n",
       "1312744          2  2016-02-15 18:45:56  2016-02-15 19:23:04                6   \n",
       "1312745          2  2016-04-20 20:40:04  2016-04-20 21:03:22                1   \n",
       "1312746          1  2016-06-06 01:35:19  2016-06-06 01:42:26                2   \n",
       "1312747          1  2016-04-20 19:49:48  2016-04-20 19:56:20                1   \n",
       "1312748          2  2016-04-06 09:58:35  2016-04-06 10:05:16                1   \n",
       "1312749          2  2016-03-19 20:57:09  2016-03-19 21:02:31                1   \n",
       "\n",
       "         pickup_longitude  pickup_latitude  dropoff_longitude  \\\n",
       "1312740        -73.873009        40.774136         -73.956490   \n",
       "1312741        -73.999451        40.757999         -73.974228   \n",
       "1312742        -73.979370        40.766876         -73.971092   \n",
       "1312743        -73.984406        40.728855         -73.939125   \n",
       "1312744        -74.007507        40.740978         -73.952080   \n",
       "1312745        -73.940582        40.814381         -73.948608   \n",
       "1312746        -73.997360        40.714272         -73.994652   \n",
       "1312747        -73.970711        40.757172         -73.961296   \n",
       "1312748        -73.969803        40.768814         -73.983727   \n",
       "1312749        -73.992104        40.759300         -74.006104   \n",
       "\n",
       "         dropoff_latitude store_and_fwd_flag  trip_duration      distance  \\\n",
       "1312740         40.746117                  N           1184   7702.960299   \n",
       "1312741         40.750870                  N            476   2271.667000   \n",
       "1312742         40.762928                  N            512    824.815396   \n",
       "1312743         40.791779                  N            713   7962.823749   \n",
       "1312744         40.660046                  N           2228  10131.847511   \n",
       "1312745         40.805721                  N           1398   1175.799185   \n",
       "1312746         40.719688                  N            427    643.394984   \n",
       "1312747         40.756279                  N            392    800.921193   \n",
       "1312748         40.770573                  N            401   1191.280344   \n",
       "1312749         40.748619                  N            322   1674.183850   \n",
       "\n",
       "          av_speed  \n",
       "1312740  23.421163  \n",
       "1312741  17.180675  \n",
       "1312742   5.799483  \n",
       "1312743  40.205001  \n",
       "1312744  16.371028  \n",
       "1312745   3.027809  \n",
       "1312746   5.424407  \n",
       "1312747   7.355399  \n",
       "1312748  10.694786  \n",
       "1312749  18.717583  "
      ]
     },
     "execution_count": 151,
     "metadata": {},
     "output_type": "execute_result"
    }
   ],
   "source": [
    "train_data.iloc[1312740:1312750, :]"
   ]
  },
  {
   "cell_type": "code",
   "execution_count": 152,
   "metadata": {
    "collapsed": true
   },
   "outputs": [],
   "source": [
    "train_data['av_speed'] = train_data['distance']/train_data['trip_duration']\n",
    "train_data['av_speed'] = train_data['av_speed']*3.6"
   ]
  },
  {
   "cell_type": "code",
   "execution_count": 209,
   "metadata": {},
   "outputs": [
    {
     "data": {
      "text/plain": [
       "1433626"
      ]
     },
     "execution_count": 209,
     "metadata": {},
     "output_type": "execute_result"
    }
   ],
   "source": [
    "train_data = train_data.loc[(train_data['av_speed'] > 3) & (train_data['av_speed'] < 100)]\n",
    "len(train_data)"
   ]
  },
  {
   "cell_type": "code",
   "execution_count": 265,
   "metadata": {},
   "outputs": [
    {
     "data": {
      "text/plain": [
       "0"
      ]
     },
     "execution_count": 265,
     "metadata": {},
     "output_type": "execute_result"
    }
   ],
   "source": [
    "train_data = train_data[(train_data['trip_duration'] < train_data['trip_duration'].quantile(.975)) & (train_data['trip_duration'] > train_data['trip_duration'].quantile(.025))]\n",
    "len(train_data)"
   ]
  },
  {
   "cell_type": "code",
   "execution_count": 213,
   "metadata": {},
   "outputs": [],
   "source": [
    "train_data['trip_duration_log'] = train_data['trip_duration'].apply(math.log)"
   ]
  },
  {
   "cell_type": "code",
   "execution_count": 214,
   "metadata": {},
   "outputs": [
    {
     "data": {
      "text/html": [
       "<div>\n",
       "<style>\n",
       "    .dataframe thead tr:only-child th {\n",
       "        text-align: right;\n",
       "    }\n",
       "\n",
       "    .dataframe thead th {\n",
       "        text-align: left;\n",
       "    }\n",
       "\n",
       "    .dataframe tbody tr th {\n",
       "        vertical-align: top;\n",
       "    }\n",
       "</style>\n",
       "<table border=\"1\" class=\"dataframe\">\n",
       "  <thead>\n",
       "    <tr style=\"text-align: right;\">\n",
       "      <th></th>\n",
       "      <th>vendor_id</th>\n",
       "      <th>pickup_datetime</th>\n",
       "      <th>dropoff_datetime</th>\n",
       "      <th>passenger_count</th>\n",
       "      <th>pickup_longitude</th>\n",
       "      <th>pickup_latitude</th>\n",
       "      <th>dropoff_longitude</th>\n",
       "      <th>dropoff_latitude</th>\n",
       "      <th>store_and_fwd_flag</th>\n",
       "      <th>trip_duration</th>\n",
       "      <th>distance</th>\n",
       "      <th>av_speed</th>\n",
       "      <th>trip_duration_log</th>\n",
       "    </tr>\n",
       "  </thead>\n",
       "  <tbody>\n",
       "    <tr>\n",
       "      <th>0</th>\n",
       "      <td>2</td>\n",
       "      <td>2016-03-14 17:24:55</td>\n",
       "      <td>2016-03-14 17:32:30</td>\n",
       "      <td>1</td>\n",
       "      <td>-73.982155</td>\n",
       "      <td>40.767937</td>\n",
       "      <td>-73.964630</td>\n",
       "      <td>40.765602</td>\n",
       "      <td>N</td>\n",
       "      <td>455</td>\n",
       "      <td>1501.709771</td>\n",
       "      <td>11.881660</td>\n",
       "      <td>6.120297</td>\n",
       "    </tr>\n",
       "    <tr>\n",
       "      <th>1</th>\n",
       "      <td>1</td>\n",
       "      <td>2016-06-12 00:43:35</td>\n",
       "      <td>2016-06-12 00:54:38</td>\n",
       "      <td>1</td>\n",
       "      <td>-73.980415</td>\n",
       "      <td>40.738564</td>\n",
       "      <td>-73.999481</td>\n",
       "      <td>40.731152</td>\n",
       "      <td>N</td>\n",
       "      <td>663</td>\n",
       "      <td>1808.098438</td>\n",
       "      <td>9.817729</td>\n",
       "      <td>6.496775</td>\n",
       "    </tr>\n",
       "    <tr>\n",
       "      <th>2</th>\n",
       "      <td>2</td>\n",
       "      <td>2016-01-19 11:35:24</td>\n",
       "      <td>2016-01-19 12:10:48</td>\n",
       "      <td>1</td>\n",
       "      <td>-73.979027</td>\n",
       "      <td>40.763939</td>\n",
       "      <td>-74.005333</td>\n",
       "      <td>40.710087</td>\n",
       "      <td>N</td>\n",
       "      <td>2124</td>\n",
       "      <td>6377.703936</td>\n",
       "      <td>10.809668</td>\n",
       "      <td>7.661056</td>\n",
       "    </tr>\n",
       "    <tr>\n",
       "      <th>3</th>\n",
       "      <td>2</td>\n",
       "      <td>2016-04-06 19:32:31</td>\n",
       "      <td>2016-04-06 19:39:40</td>\n",
       "      <td>1</td>\n",
       "      <td>-74.010040</td>\n",
       "      <td>40.719971</td>\n",
       "      <td>-74.012268</td>\n",
       "      <td>40.706718</td>\n",
       "      <td>N</td>\n",
       "      <td>429</td>\n",
       "      <td>1483.166420</td>\n",
       "      <td>12.446152</td>\n",
       "      <td>6.061457</td>\n",
       "    </tr>\n",
       "    <tr>\n",
       "      <th>4</th>\n",
       "      <td>2</td>\n",
       "      <td>2016-03-26 13:30:55</td>\n",
       "      <td>2016-03-26 13:38:10</td>\n",
       "      <td>1</td>\n",
       "      <td>-73.973053</td>\n",
       "      <td>40.793209</td>\n",
       "      <td>-73.972923</td>\n",
       "      <td>40.782520</td>\n",
       "      <td>N</td>\n",
       "      <td>435</td>\n",
       "      <td>1186.672542</td>\n",
       "      <td>9.820738</td>\n",
       "      <td>6.075346</td>\n",
       "    </tr>\n",
       "  </tbody>\n",
       "</table>\n",
       "</div>"
      ],
      "text/plain": [
       "   vendor_id      pickup_datetime     dropoff_datetime  passenger_count  \\\n",
       "0          2  2016-03-14 17:24:55  2016-03-14 17:32:30                1   \n",
       "1          1  2016-06-12 00:43:35  2016-06-12 00:54:38                1   \n",
       "2          2  2016-01-19 11:35:24  2016-01-19 12:10:48                1   \n",
       "3          2  2016-04-06 19:32:31  2016-04-06 19:39:40                1   \n",
       "4          2  2016-03-26 13:30:55  2016-03-26 13:38:10                1   \n",
       "\n",
       "   pickup_longitude  pickup_latitude  dropoff_longitude  dropoff_latitude  \\\n",
       "0        -73.982155        40.767937         -73.964630         40.765602   \n",
       "1        -73.980415        40.738564         -73.999481         40.731152   \n",
       "2        -73.979027        40.763939         -74.005333         40.710087   \n",
       "3        -74.010040        40.719971         -74.012268         40.706718   \n",
       "4        -73.973053        40.793209         -73.972923         40.782520   \n",
       "\n",
       "  store_and_fwd_flag  trip_duration     distance   av_speed  trip_duration_log  \n",
       "0                  N            455  1501.709771  11.881660           6.120297  \n",
       "1                  N            663  1808.098438   9.817729           6.496775  \n",
       "2                  N           2124  6377.703936  10.809668           7.661056  \n",
       "3                  N            429  1483.166420  12.446152           6.061457  \n",
       "4                  N            435  1186.672542   9.820738           6.075346  "
      ]
     },
     "execution_count": 214,
     "metadata": {},
     "output_type": "execute_result"
    }
   ],
   "source": [
    "train_data.head()"
   ]
  },
  {
   "cell_type": "code",
   "execution_count": 169,
   "metadata": {},
   "outputs": [
    {
     "data": {
      "text/plain": [
       "<matplotlib.axes._subplots.AxesSubplot at 0x7fab7584dc88>"
      ]
     },
     "execution_count": 169,
     "metadata": {},
     "output_type": "execute_result"
    },
    {
     "data": {
      "image/png": "[encoded data removed]",
      "text/plain": [
       "<matplotlib.figure.Figure at 0x7fab757ddc50>"
      ]
     },
     "metadata": {},
     "output_type": "display_data"
    }
   ],
   "source": [
    "sns.distplot(train_data['av_speed'])"
   ]
  },
  {
   "cell_type": "code",
   "execution_count": 170,
   "metadata": {},
   "outputs": [
    {
     "data": {
      "text/plain": [
       "<matplotlib.axes._subplots.AxesSubplot at 0x7fab757dd550>"
      ]
     },
     "execution_count": 170,
     "metadata": {},
     "output_type": "execute_result"
    },
    {
     "data": {
      "image/png": "[encoded data removed]",
      "text/plain": [
       "<matplotlib.figure.Figure at 0x7fabad301550>"
      ]
     },
     "metadata": {},
     "output_type": "display_data"
    }
   ],
   "source": [
    "sns.regplot(train_data.loc[:,'trip_duration'], train_data.loc[:,'distance'])"
   ]
  },
  {
   "cell_type": "code",
   "execution_count": 240,
   "metadata": {},
   "outputs": [],
   "source": [
    "train_data['pickup_datetime'] = train_data['pickup_datetime'].apply(pd.to_datetime)\n",
    "train_data['dropoff_datetime'] = train_data['dropoff_datetime'].apply(pd.to_datetime)"
   ]
  },
  {
   "cell_type": "code",
   "execution_count": 248,
   "metadata": {},
   "outputs": [],
   "source": [
    "train_data['month'] = train_data['pickup_datetime'].apply(lambda x: x.month)\n",
    "train_data['hour'] = train_data['pickup_datetime'].apply(lambda x: x.hour)"
   ]
  },
  {
   "cell_type": "code",
   "execution_count": 249,
   "metadata": {},
   "outputs": [
    {
     "data": {
      "text/html": [
       "<div>\n",
       "<style>\n",
       "    .dataframe thead tr:only-child th {\n",
       "        text-align: right;\n",
       "    }\n",
       "\n",
       "    .dataframe thead th {\n",
       "        text-align: left;\n",
       "    }\n",
       "\n",
       "    .dataframe tbody tr th {\n",
       "        vertical-align: top;\n",
       "    }\n",
       "</style>\n",
       "<table border=\"1\" class=\"dataframe\">\n",
       "  <thead>\n",
       "    <tr style=\"text-align: right;\">\n",
       "      <th></th>\n",
       "      <th>vendor_id</th>\n",
       "      <th>pickup_datetime</th>\n",
       "      <th>dropoff_datetime</th>\n",
       "      <th>passenger_count</th>\n",
       "      <th>pickup_longitude</th>\n",
       "      <th>pickup_latitude</th>\n",
       "      <th>dropoff_longitude</th>\n",
       "      <th>dropoff_latitude</th>\n",
       "      <th>store_and_fwd_flag</th>\n",
       "      <th>trip_duration</th>\n",
       "      <th>distance</th>\n",
       "      <th>av_speed</th>\n",
       "      <th>trip_duration_log</th>\n",
       "      <th>month</th>\n",
       "      <th>hour</th>\n",
       "    </tr>\n",
       "  </thead>\n",
       "  <tbody>\n",
       "    <tr>\n",
       "      <th>0</th>\n",
       "      <td>2</td>\n",
       "      <td>2016-03-14 17:24:55</td>\n",
       "      <td>2016-03-14 17:32:30</td>\n",
       "      <td>1</td>\n",
       "      <td>-73.982155</td>\n",
       "      <td>40.767937</td>\n",
       "      <td>-73.964630</td>\n",
       "      <td>40.765602</td>\n",
       "      <td>N</td>\n",
       "      <td>455</td>\n",
       "      <td>1501.709771</td>\n",
       "      <td>11.881660</td>\n",
       "      <td>6.120297</td>\n",
       "      <td>3</td>\n",
       "      <td>17</td>\n",
       "    </tr>\n",
       "    <tr>\n",
       "      <th>1</th>\n",
       "      <td>1</td>\n",
       "      <td>2016-06-12 00:43:35</td>\n",
       "      <td>2016-06-12 00:54:38</td>\n",
       "      <td>1</td>\n",
       "      <td>-73.980415</td>\n",
       "      <td>40.738564</td>\n",
       "      <td>-73.999481</td>\n",
       "      <td>40.731152</td>\n",
       "      <td>N</td>\n",
       "      <td>663</td>\n",
       "      <td>1808.098438</td>\n",
       "      <td>9.817729</td>\n",
       "      <td>6.496775</td>\n",
       "      <td>6</td>\n",
       "      <td>0</td>\n",
       "    </tr>\n",
       "    <tr>\n",
       "      <th>2</th>\n",
       "      <td>2</td>\n",
       "      <td>2016-01-19 11:35:24</td>\n",
       "      <td>2016-01-19 12:10:48</td>\n",
       "      <td>1</td>\n",
       "      <td>-73.979027</td>\n",
       "      <td>40.763939</td>\n",
       "      <td>-74.005333</td>\n",
       "      <td>40.710087</td>\n",
       "      <td>N</td>\n",
       "      <td>2124</td>\n",
       "      <td>6377.703936</td>\n",
       "      <td>10.809668</td>\n",
       "      <td>7.661056</td>\n",
       "      <td>1</td>\n",
       "      <td>11</td>\n",
       "    </tr>\n",
       "    <tr>\n",
       "      <th>3</th>\n",
       "      <td>2</td>\n",
       "      <td>2016-04-06 19:32:31</td>\n",
       "      <td>2016-04-06 19:39:40</td>\n",
       "      <td>1</td>\n",
       "      <td>-74.010040</td>\n",
       "      <td>40.719971</td>\n",
       "      <td>-74.012268</td>\n",
       "      <td>40.706718</td>\n",
       "      <td>N</td>\n",
       "      <td>429</td>\n",
       "      <td>1483.166420</td>\n",
       "      <td>12.446152</td>\n",
       "      <td>6.061457</td>\n",
       "      <td>4</td>\n",
       "      <td>19</td>\n",
       "    </tr>\n",
       "    <tr>\n",
       "      <th>4</th>\n",
       "      <td>2</td>\n",
       "      <td>2016-03-26 13:30:55</td>\n",
       "      <td>2016-03-26 13:38:10</td>\n",
       "      <td>1</td>\n",
       "      <td>-73.973053</td>\n",
       "      <td>40.793209</td>\n",
       "      <td>-73.972923</td>\n",
       "      <td>40.782520</td>\n",
       "      <td>N</td>\n",
       "      <td>435</td>\n",
       "      <td>1186.672542</td>\n",
       "      <td>9.820738</td>\n",
       "      <td>6.075346</td>\n",
       "      <td>3</td>\n",
       "      <td>13</td>\n",
       "    </tr>\n",
       "  </tbody>\n",
       "</table>\n",
       "</div>"
      ],
      "text/plain": [
       "   vendor_id     pickup_datetime    dropoff_datetime  passenger_count  \\\n",
       "0          2 2016-03-14 17:24:55 2016-03-14 17:32:30                1   \n",
       "1          1 2016-06-12 00:43:35 2016-06-12 00:54:38                1   \n",
       "2          2 2016-01-19 11:35:24 2016-01-19 12:10:48                1   \n",
       "3          2 2016-04-06 19:32:31 2016-04-06 19:39:40                1   \n",
       "4          2 2016-03-26 13:30:55 2016-03-26 13:38:10                1   \n",
       "\n",
       "   pickup_longitude  pickup_latitude  dropoff_longitude  dropoff_latitude  \\\n",
       "0        -73.982155        40.767937         -73.964630         40.765602   \n",
       "1        -73.980415        40.738564         -73.999481         40.731152   \n",
       "2        -73.979027        40.763939         -74.005333         40.710087   \n",
       "3        -74.010040        40.719971         -74.012268         40.706718   \n",
       "4        -73.973053        40.793209         -73.972923         40.782520   \n",
       "\n",
       "  store_and_fwd_flag  trip_duration     distance   av_speed  \\\n",
       "0                  N            455  1501.709771  11.881660   \n",
       "1                  N            663  1808.098438   9.817729   \n",
       "2                  N           2124  6377.703936  10.809668   \n",
       "3                  N            429  1483.166420  12.446152   \n",
       "4                  N            435  1186.672542   9.820738   \n",
       "\n",
       "   trip_duration_log  month  hour  \n",
       "0           6.120297      3    17  \n",
       "1           6.496775      6     0  \n",
       "2           7.661056      1    11  \n",
       "3           6.061457      4    19  \n",
       "4           6.075346      3    13  "
      ]
     },
     "execution_count": 249,
     "metadata": {},
     "output_type": "execute_result"
    }
   ],
   "source": [
    "train_data.head()"
   ]
  },
  {
   "cell_type": "code",
   "execution_count": 258,
   "metadata": {},
   "outputs": [
    {
     "data": {
      "text/plain": [
       "<matplotlib.axes._subplots.AxesSubplot at 0x7fab75850240>"
      ]
     },
     "execution_count": 258,
     "metadata": {},
     "output_type": "execute_result"
    },
    {
     "data": {
      "image/png": "[encoded data removed]",
      "text/plain": [
       "<matplotlib.figure.Figure at 0x7fab758a97f0>"
      ]
     },
     "metadata": {},
     "output_type": "display_data"
    }
   ],
   "source": [
    "sns.barplot(x = train_data['hour'], y = train_data['av_speed'])"
   ]
  },
  {
   "cell_type": "code",
   "execution_count": 259,
   "metadata": {},
   "outputs": [
    {
     "data": {
      "text/plain": [
       "<matplotlib.axes._subplots.AxesSubplot at 0x7fab61ea5e48>"
      ]
     },
     "execution_count": 259,
     "metadata": {},
     "output_type": "execute_result"
    },
    {
     "data": {
      "image/png": "[encoded data removed]",
      "text/plain": [
       "<matplotlib.figure.Figure at 0x7fab7585c940>"
      ]
     },
     "metadata": {},
     "output_type": "display_data"
    }
   ],
   "source": [
    "sns.boxplot(x = train_data['hour'], y = train_data['trip_duration'])"
   ]
  },
  {
   "cell_type": "code",
   "execution_count": 182,
   "metadata": {
    "collapsed": true
   },
   "outputs": [],
   "source": [
    "# first we try to fit simple regression models by one parameter distance\n",
    "linreg = linear_model.LinearRegression()\n",
    "tr, ts = model_selection.train_test_split(train_data)"
   ]
  },
  {
   "cell_type": "code",
   "execution_count": 183,
   "metadata": {},
   "outputs": [
    {
     "name": "stdout",
     "output_type": "stream",
     "text": [
      "1075219\n",
      "358407\n"
     ]
    }
   ],
   "source": [
    "print(len(tr))\n",
    "print(len(ts))"
   ]
  },
  {
   "cell_type": "code",
   "execution_count": 255,
   "metadata": {},
   "outputs": [
    {
     "data": {
      "text/plain": [
       "LinearRegression(copy_X=True, fit_intercept=True, n_jobs=1, normalize=False)"
      ]
     },
     "execution_count": 255,
     "metadata": {},
     "output_type": "execute_result"
    }
   ],
   "source": [
    "linreg.fit(train_data[['distance', 'hour']], train_data['trip_duration'])"
   ]
  },
  {
   "cell_type": "code",
   "execution_count": 256,
   "metadata": {},
   "outputs": [
    {
     "data": {
      "text/plain": [
       "0.61170431837139672"
      ]
     },
     "execution_count": 256,
     "metadata": {},
     "output_type": "execute_result"
    }
   ],
   "source": [
    "score = model_selection.cross_val_score(linreg, train_data[['distance', 'hour']], train_data['trip_duration'], scoring='r2', cv = 10)\n",
    "score.mean()"
   ]
  },
  {
   "cell_type": "code",
   "execution_count": 175,
   "metadata": {},
   "outputs": [
    {
     "data": {
      "text/plain": [
       "281.49334078814661"
      ]
     },
     "execution_count": 175,
     "metadata": {},
     "output_type": "execute_result"
    }
   ],
   "source": [
    "metrics.mean_absolute_error(ts['trip_duration'], lr_predictions)"
   ]
  },
  {
   "cell_type": "code",
   "execution_count": 176,
   "metadata": {},
   "outputs": [
    {
     "data": {
      "text/plain": [
       "166403.1207267539"
      ]
     },
     "execution_count": 176,
     "metadata": {},
     "output_type": "execute_result"
    }
   ],
   "source": [
    "metrics.mean_squared_error(ts['trip_duration'], lr_predictions)"
   ]
  },
  {
   "cell_type": "code",
   "execution_count": 186,
   "metadata": {},
   "outputs": [
    {
     "data": {
      "text/plain": [
       "0.61073741677480342"
      ]
     },
     "execution_count": 186,
     "metadata": {},
     "output_type": "execute_result"
    }
   ],
   "source": [
    "metrics.r2_score(ts['trip_duration'], lr_predictions)"
   ]
  },
  {
   "cell_type": "code",
   "execution_count": 199,
   "metadata": {},
   "outputs": [
    {
     "name": "stderr",
     "output_type": "stream",
     "text": [
      "/home/aleksey/projects/data_science/lib/python3.5/site-packages/ipykernel_launcher.py:1: FutureWarning: reshape is deprecated and will raise in a subsequent release. Please use .values.reshape(...) instead\n",
      "  \"\"\"Entry point for launching an IPython kernel.\n"
     ]
    },
    {
     "data": {
      "text/plain": [
       "-167760.71933044045"
      ]
     },
     "execution_count": 199,
     "metadata": {},
     "output_type": "execute_result"
    }
   ],
   "source": [
    "score = model_selection.cross_val_score(linreg, train_data['distance'].reshape(len(train_data), 1), train_data['trip_duration'].reshape(len(train_data), 1), scoring='neg_mean_squared_error', cv = 10)\n",
    "score.mean()"
   ]
  },
  {
   "cell_type": "code",
   "execution_count": 205,
   "metadata": {
    "collapsed": true
   },
   "outputs": [],
   "source": [
    "models = [linear_model.LinearRegression(), linear_model.Lasso(), linear_model.Ridge(), linear_model.ElasticNet(), linear_model.SGDRegressor()]"
   ]
  },
  {
   "cell_type": "code",
   "execution_count": 208,
   "metadata": {},
   "outputs": [
    {
     "name": "stderr",
     "output_type": "stream",
     "text": [
      "/home/aleksey/projects/data_science/lib/python3.5/site-packages/ipykernel_launcher.py:3: FutureWarning: reshape is deprecated and will raise in a subsequent release. Please use .values.reshape(...) instead\n",
      "  This is separate from the ipykernel package so we can avoid doing imports until\n",
      "/home/aleksey/projects/data_science/lib/python3.5/site-packages/ipykernel_launcher.py:4: FutureWarning: reshape is deprecated and will raise in a subsequent release. Please use .values.reshape(...) instead\n",
      "  after removing the cwd from sys.path.\n"
     ]
    },
    {
     "name": "stdout",
     "output_type": "stream",
     "text": [
      "LinearRegression(copy_X=True, fit_intercept=True, n_jobs=1, normalize=False) \n",
      " 0.609757962008\n"
     ]
    },
    {
     "name": "stderr",
     "output_type": "stream",
     "text": [
      "/home/aleksey/projects/data_science/lib/python3.5/site-packages/ipykernel_launcher.py:3: FutureWarning: reshape is deprecated and will raise in a subsequent release. Please use .values.reshape(...) instead\n",
      "  This is separate from the ipykernel package so we can avoid doing imports until\n",
      "/home/aleksey/projects/data_science/lib/python3.5/site-packages/ipykernel_launcher.py:4: FutureWarning: reshape is deprecated and will raise in a subsequent release. Please use .values.reshape(...) instead\n",
      "  after removing the cwd from sys.path.\n"
     ]
    },
    {
     "name": "stdout",
     "output_type": "stream",
     "text": [
      "Lasso(alpha=1.0, copy_X=True, fit_intercept=True, max_iter=1000,\n",
      "   normalize=False, positive=False, precompute=False, random_state=None,\n",
      "   selection='cyclic', tol=0.0001, warm_start=False) \n",
      " 0.609757962052\n"
     ]
    },
    {
     "name": "stderr",
     "output_type": "stream",
     "text": [
      "/home/aleksey/projects/data_science/lib/python3.5/site-packages/ipykernel_launcher.py:3: FutureWarning: reshape is deprecated and will raise in a subsequent release. Please use .values.reshape(...) instead\n",
      "  This is separate from the ipykernel package so we can avoid doing imports until\n",
      "/home/aleksey/projects/data_science/lib/python3.5/site-packages/ipykernel_launcher.py:4: FutureWarning: reshape is deprecated and will raise in a subsequent release. Please use .values.reshape(...) instead\n",
      "  after removing the cwd from sys.path.\n"
     ]
    },
    {
     "name": "stdout",
     "output_type": "stream",
     "text": [
      "Ridge(alpha=1.0, copy_X=True, fit_intercept=True, max_iter=None,\n",
      "   normalize=False, random_state=None, solver='auto', tol=0.001) \n",
      " 0.609757962008\n"
     ]
    },
    {
     "name": "stderr",
     "output_type": "stream",
     "text": [
      "/home/aleksey/projects/data_science/lib/python3.5/site-packages/ipykernel_launcher.py:3: FutureWarning: reshape is deprecated and will raise in a subsequent release. Please use .values.reshape(...) instead\n",
      "  This is separate from the ipykernel package so we can avoid doing imports until\n",
      "/home/aleksey/projects/data_science/lib/python3.5/site-packages/ipykernel_launcher.py:4: FutureWarning: reshape is deprecated and will raise in a subsequent release. Please use .values.reshape(...) instead\n",
      "  after removing the cwd from sys.path.\n"
     ]
    },
    {
     "name": "stdout",
     "output_type": "stream",
     "text": [
      "ElasticNet(alpha=1.0, copy_X=True, fit_intercept=True, l1_ratio=0.5,\n",
      "      max_iter=1000, normalize=False, positive=False, precompute=False,\n",
      "      random_state=None, selection='cyclic', tol=0.0001, warm_start=False) \n",
      " 0.609757962033\n"
     ]
    },
    {
     "name": "stderr",
     "output_type": "stream",
     "text": [
      "/home/aleksey/projects/data_science/lib/python3.5/site-packages/ipykernel_launcher.py:3: FutureWarning: reshape is deprecated and will raise in a subsequent release. Please use .values.reshape(...) instead\n",
      "  This is separate from the ipykernel package so we can avoid doing imports until\n",
      "/home/aleksey/projects/data_science/lib/python3.5/site-packages/sklearn/utils/validation.py:526: DataConversionWarning: A column-vector y was passed when a 1d array was expected. Please change the shape of y to (n_samples, ), for example using ravel().\n",
      "  y = column_or_1d(y, warn=True)\n",
      "/home/aleksey/projects/data_science/lib/python3.5/site-packages/ipykernel_launcher.py:4: FutureWarning: reshape is deprecated and will raise in a subsequent release. Please use .values.reshape(...) instead\n",
      "  after removing the cwd from sys.path.\n",
      "/home/aleksey/projects/data_science/lib/python3.5/site-packages/sklearn/utils/validation.py:526: DataConversionWarning: A column-vector y was passed when a 1d array was expected. Please change the shape of y to (n_samples, ), for example using ravel().\n",
      "  y = column_or_1d(y, warn=True)\n",
      "/home/aleksey/projects/data_science/lib/python3.5/site-packages/sklearn/utils/validation.py:526: DataConversionWarning: A column-vector y was passed when a 1d array was expected. Please change the shape of y to (n_samples, ), for example using ravel().\n",
      "  y = column_or_1d(y, warn=True)\n",
      "/home/aleksey/projects/data_science/lib/python3.5/site-packages/sklearn/utils/validation.py:526: DataConversionWarning: A column-vector y was passed when a 1d array was expected. Please change the shape of y to (n_samples, ), for example using ravel().\n",
      "  y = column_or_1d(y, warn=True)\n",
      "/home/aleksey/projects/data_science/lib/python3.5/site-packages/sklearn/utils/validation.py:526: DataConversionWarning: A column-vector y was passed when a 1d array was expected. Please change the shape of y to (n_samples, ), for example using ravel().\n",
      "  y = column_or_1d(y, warn=True)\n",
      "/home/aleksey/projects/data_science/lib/python3.5/site-packages/sklearn/utils/validation.py:526: DataConversionWarning: A column-vector y was passed when a 1d array was expected. Please change the shape of y to (n_samples, ), for example using ravel().\n",
      "  y = column_or_1d(y, warn=True)\n",
      "/home/aleksey/projects/data_science/lib/python3.5/site-packages/sklearn/utils/validation.py:526: DataConversionWarning: A column-vector y was passed when a 1d array was expected. Please change the shape of y to (n_samples, ), for example using ravel().\n",
      "  y = column_or_1d(y, warn=True)\n",
      "/home/aleksey/projects/data_science/lib/python3.5/site-packages/sklearn/utils/validation.py:526: DataConversionWarning: A column-vector y was passed when a 1d array was expected. Please change the shape of y to (n_samples, ), for example using ravel().\n",
      "  y = column_or_1d(y, warn=True)\n",
      "/home/aleksey/projects/data_science/lib/python3.5/site-packages/sklearn/utils/validation.py:526: DataConversionWarning: A column-vector y was passed when a 1d array was expected. Please change the shape of y to (n_samples, ), for example using ravel().\n",
      "  y = column_or_1d(y, warn=True)\n",
      "/home/aleksey/projects/data_science/lib/python3.5/site-packages/sklearn/utils/validation.py:526: DataConversionWarning: A column-vector y was passed when a 1d array was expected. Please change the shape of y to (n_samples, ), for example using ravel().\n",
      "  y = column_or_1d(y, warn=True)\n",
      "/home/aleksey/projects/data_science/lib/python3.5/site-packages/sklearn/utils/validation.py:526: DataConversionWarning: A column-vector y was passed when a 1d array was expected. Please change the shape of y to (n_samples, ), for example using ravel().\n",
      "  y = column_or_1d(y, warn=True)\n"
     ]
    },
    {
     "name": "stdout",
     "output_type": "stream",
     "text": [
      "SGDRegressor(alpha=0.0001, average=False, epsilon=0.1, eta0=0.01,\n",
      "       fit_intercept=True, l1_ratio=0.15, learning_rate='invscaling',\n",
      "       loss='squared_loss', n_iter=5, penalty='l2', power_t=0.25,\n",
      "       random_state=None, shuffle=True, verbose=0, warm_start=False) \n",
      " -5.16725060141e+25\n"
     ]
    }
   ],
   "source": [
    "for model in models:\n",
    "    clf = model\n",
    "    clf.fit(train_data['distance'].reshape(len(train_data), 1), train_data['trip_duration'].reshape(len(train_data), 1))\n",
    "    score = model_selection.cross_val_score(clf, train_data['distance'].reshape(len(train_data), 1), train_data['trip_duration'].reshape(len(train_data), 1), scoring='r2', cv = 10)\n",
    "    print(model, '\\n', score.mean())"
   ]
  },
  {
   "cell_type": "code",
   "execution_count": 229,
   "metadata": {},
   "outputs": [
    {
     "data": {
      "text/plain": [
       "{'alpha': 1.0,\n",
       " 'copy_X': True,\n",
       " 'fit_intercept': True,\n",
       " 'max_iter': None,\n",
       " 'normalize': False,\n",
       " 'random_state': None,\n",
       " 'solver': 'auto',\n",
       " 'tol': 0.001}"
      ]
     },
     "execution_count": 229,
     "metadata": {},
     "output_type": "execute_result"
    }
   ],
   "source": [
    "clf = linear_model.Ridge()\n",
    "clf.get_params()"
   ]
  },
  {
   "cell_type": "code",
   "execution_count": null,
   "metadata": {
    "collapsed": true
   },
   "outputs": [],
   "source": [
    "#TODO add time features, holiday/workday features, meteo features, road graph distance\n",
    "# TODO create sklearn pipline"
   ]
  },
  {
   "cell_type": "code",
   "execution_count": null,
   "metadata": {
    "collapsed": true
   },
   "outputs": [],
   "source": [
    "#TODO use RandomForest and xgboost"
   ]
  }
 ],
 "metadata": {
  "kernelspec": {
   "display_name": "Python 3",
   "language": "python",
   "name": "python3"
  },
  "language_info": {
   "codemirror_mode": {
    "name": "ipython",
    "version": 3
   },
   "file_extension": ".py",
   "mimetype": "text/x-python",
   "name": "python",
   "nbconvert_exporter": "python",
   "pygments_lexer": "ipython3",
   "version": "3.5.2"
  }
 },
 "nbformat": 4,
 "nbformat_minor": 2
}
