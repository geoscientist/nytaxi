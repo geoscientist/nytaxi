{
 "cells": [
  {
   "cell_type": "code",
   "execution_count": 2,
   "metadata": {
    "collapsed": true
   },
   "outputs": [],
   "source": [
    "import requests\n",
    "from bs4 import BeautifulSoup\n",
    "import pandas as pd\n",
    "import datetime"
   ]
  },
  {
   "cell_type": "code",
   "execution_count": 3,
   "metadata": {
    "collapsed": true
   },
   "outputs": [],
   "source": [
    "url = 'https://www.wunderground.com/history/airport/KJRB/2016/{0}/{1}/DailyHistory.html?req_city=&req_state=&req_statename=&reqdb.zip=&reqdb.magic=&reqdb.wmo=&MR=1'"
   ]
  },
  {
   "cell_type": "code",
   "execution_count": 8,
   "metadata": {
    "collapsed": true
   },
   "outputs": [],
   "source": [
    "weather_data = pd.DataFrame(columns=['Date', 'Temperature', 'Rainfall', 'Atm_pressure', 'Wind_speed'])"
   ]
  },
  {
   "cell_type": "code",
   "execution_count": 9,
   "metadata": {
    "scrolled": true
   },
   "outputs": [
    {
     "name": "stderr",
     "output_type": "stream",
     "text": [
      "/home/aleksey/projects/data_science/lib/python3.5/site-packages/bs4/__init__.py:181: UserWarning: No parser was explicitly specified, so I'm using the best available HTML parser for this system (\"html5lib\"). This usually isn't a problem, but if you run this code on another system, or in a different virtual environment, it may use a different parser and behave differently.\n",
      "\n",
      "The code that caused this warning is on line 184 of the file /usr/lib/python3.5/runpy.py. To get rid of this warning, change code that looks like this:\n",
      "\n",
      " BeautifulSoup(YOUR_MARKUP})\n",
      "\n",
      "to this:\n",
      "\n",
      " BeautifulSoup(YOUR_MARKUP, \"html5lib\")\n",
      "\n",
      "  markup_type=markup_type))\n"
     ]
    },
    {
     "name": "stdout",
     "output_type": "stream",
     "text": [
      "         Date Temperature Rainfall Atm_pressure Wind_speed\n",
      "0  2016-01-01           4     0.00         1017         13\n",
      "0  2016-01-02           3     0.00         1017         16\n",
      "0  2016-01-03           6     0.00         1012         16\n",
      "0  2016-01-04          -2     0.00         1018          8\n",
      "0  2016-01-05          -4     0.00         1036         10\n",
      "0  2016-01-06           2     0.00         1034         11\n",
      "0  2016-01-07           3     0.00         1026          8\n",
      "0  2016-01-08           4     0.00         1023         16\n",
      "0  2016-01-09           7     0.00         1021         21\n",
      "0  2016-01-10          11     0.00         1002         23\n",
      "0  2016-01-11           1     0.00         1013         21\n",
      "0  2016-01-12           2     0.00         1011         11\n",
      "0  2016-01-13          -2     0.00         1014         18\n",
      "0  2016-01-14           0     0.00         1015         16\n",
      "0  2016-01-15           7     0.00         1010          8\n",
      "0  2016-01-16           9     0.00         1001         13\n",
      "0  2016-01-17           3     0.00         1009          8\n",
      "0  2016-01-18          -3     0.00         1011         13\n",
      "0  2016-01-19          -3     0.00         1017         18\n",
      "0  2016-01-20           1     0.00         1021          8\n",
      "0  2016-01-21           1   256.54         1021          6\n",
      "0  2016-01-22          -2     0.00         1024         10\n",
      "0  2016-01-23          -2     0.00         1007         27\n",
      "0  2016-01-24          -1     0.00         1014          5\n",
      "0  2016-01-25           1     0.00         1025          8\n",
      "0  2016-01-26           6     0.00         1017         11\n",
      "0  2016-01-27           6     0.00         1017          6\n",
      "0  2016-01-28           3     0.00         1013          6\n",
      "0  2016-01-29           3     0.00         1002          8\n",
      "0  2016-01-30           2     0.00         1017         10\n",
      "..        ...         ...      ...          ...        ...\n",
      "0  2016-12-02           9   762.00         1026         19\n",
      "0  2016-12-03           8   254.00         1027         13\n",
      "0  2016-12-04           8   255.02         1028          8\n",
      "0  2016-12-05           8  2540.00         1026         13\n",
      "0  2016-12-06           7  1778.00         1026         13\n",
      "0  2016-12-07           7  1778.00         1025         16\n",
      "0  2016-12-08           4   508.25         1026         11\n",
      "0  2016-12-09           3  1017.02         1028         16\n",
      "0  2016-12-10           1   258.32         1030         13\n",
      "0  2016-12-11           1     0.00         1031         11\n",
      "0  2016-12-12           4  3049.27         1025         13\n",
      "0  2016-12-13           4  3556.00         1028         10\n",
      "0  2016-12-14           4  1016.00         1027         13\n",
      "0  2016-12-15          -2  1524.00         1026         18\n",
      "0  2016-12-16          -4   254.00         1030         21\n",
      "0  2016-12-17           0  1521.46         1026         13\n",
      "0  2016-12-18           7   254.00         1026         11\n",
      "0  2016-12-19          -1   254.00         1032          8\n",
      "0  2016-12-20          -1     0.00         1031         10\n",
      "0  2016-12-21           2   510.54         1028         13\n",
      "0  2016-12-22           7   508.00         1027          6\n",
      "0  2016-12-23           6   509.02         1030          8\n",
      "0  2016-12-24           6  1778.00         1028         10\n",
      "0  2016-12-25           8     0.00         1031          8\n",
      "0  2016-12-26           6     0.00         1031         18\n",
      "0  2016-12-27          11  1016.00         1025         18\n",
      "0  2016-12-28           3   254.00         1027          8\n",
      "0  2016-12-29           4  1525.27         1022         11\n",
      "0  2016-12-30           4  1016.25         1024         21\n",
      "0  2016-12-31           4   508.00         1027         18\n",
      "\n",
      "[365 rows x 5 columns]\n"
     ]
    }
   ],
   "source": [
    "for month in range(1, 13):\n",
    "    if month in [1, 3, 5, 7, 8, 10, 12]:\n",
    "        ndays = 32\n",
    "    elif month in [4, 6, 9, 11]:\n",
    "        ndays = 31\n",
    "    else: ndays = 29\n",
    "    for day in range(1,ndays):\n",
    "        result = requests.get(url.format(month,day))\n",
    "        c = result.content\n",
    "        soup = BeautifulSoup(c)\n",
    "        summary = soup.find('div', {'class': 'column large-8 right-spacing'})\n",
    "        tables = summary.find_all('table')\n",
    "        table = tables[0].find('tbody')\n",
    "        rows = table.find_all('tr')\n",
    "        data = []\n",
    "        for tr in rows:\n",
    "            cols = tr.find_all('td')\n",
    "            for td in cols:\n",
    "                values = td.find_all('span', {'class': 'wx-data'})\n",
    "                for v in values:\n",
    "                    text = v.find('span', {'class': 'wx-value'}).text\n",
    "                    data.append(text)\n",
    "        try:\n",
    "            x = pd.DataFrame([[datetime.datetime(2016, month, day), data[0], data[8], data[9], data[10]]], columns = ['Date', 'Temperature', 'Rainfall', 'Atm_pressure', 'Wind_speed'])\n",
    "        except:\n",
    "            x = pd.DataFrame([[datetime.datetime(2016, month, day), 0, 0, 0, 0]], columns = ['Date', 'Temperature', 'Rainfall', 'Atm_pressure', 'Wind_speed'])\n",
    "        weather_data = weather_data.append(x)\n",
    "print(weather_data)"
   ]
  },
  {
   "cell_type": "code",
   "execution_count": 17,
   "metadata": {},
   "outputs": [],
   "source": [
    "weather_data.to_csv('weather_data.csv')"
   ]
  }
 ],
 "metadata": {
  "kernelspec": {
   "display_name": "Python 3",
   "language": "python",
   "name": "python3"
  },
  "language_info": {
   "codemirror_mode": {
    "name": "ipython",
    "version": 3
   },
   "file_extension": ".py",
   "mimetype": "text/x-python",
   "name": "python",
   "nbconvert_exporter": "python",
   "pygments_lexer": "ipython3",
   "version": "3.5.2"
  }
 },
 "nbformat": 4,
 "nbformat_minor": 2
}
